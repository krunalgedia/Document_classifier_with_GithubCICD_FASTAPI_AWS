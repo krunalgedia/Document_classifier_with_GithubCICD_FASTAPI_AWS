{
 "cells": [
  {
   "cell_type": "code",
   "execution_count": 1,
   "id": "e81f9c32-8cb9-43cd-b3aa-c93fef2f824d",
   "metadata": {},
   "outputs": [
    {
     "data": {
      "text/plain": [
       "'C:\\\\Users\\\\kbged\\\\Downloads\\\\mlprojects\\\\Document_classifier_with_GithubCICD_FASTAPI_AWS\\\\research'"
      ]
     },
     "execution_count": 1,
     "metadata": {},
     "output_type": "execute_result"
    }
   ],
   "source": [
    "import os\n",
    "%pwd"
   ]
  },
  {
   "cell_type": "code",
   "execution_count": 2,
   "id": "4904fcc2-7f34-4786-9e87-3768dc347284",
   "metadata": {},
   "outputs": [],
   "source": [
    "os.chdir('../')\n",
    "%pwd"
   ]
  },
  {
   "cell_type": "code",
   "execution_count": 3,
   "id": "2467e6c6-f3d3-4cce-9ad0-11a4f2b901a2",
   "metadata": {},
   "outputs": [
    {
     "data": {
      "text/plain": [
       "'C:\\\\Users\\\\kbged\\\\Downloads\\\\mlprojects\\\\Document_classifier_with_GithubCICD_FASTAPI_AWS'"
      ]
     },
     "execution_count": 3,
     "metadata": {},
     "output_type": "execute_result"
    }
   ],
   "source": []
  },
  {
   "cell_type": "code",
   "execution_count": 4,
   "id": "a445b8a2-e588-4f89-af7b-f3055c59a3b4",
   "metadata": {},
   "outputs": [],
   "source": [
    "from dataclasses import dataclass\n",
    "from pathlib import Path\n",
    "\n",
    "@dataclass(frozen=True)\n",
    "class DataIngestionConfig:\n",
    "    root_dir: Path\n",
    "    source_URL: str\n",
    "    local_data_file: Path\n",
    "    unzip_dir: Path"
   ]
  },
  {
   "cell_type": "code",
   "execution_count": 5,
   "id": "39bb7d6f-6acd-42d8-8fb9-70be4799c003",
   "metadata": {},
   "outputs": [],
   "source": [
    "from docClassify.constants import *\n",
    "from docClassify.utils.common import read_yaml, create_directories"
   ]
  },
  {
   "cell_type": "code",
   "execution_count": 6,
   "id": "2cbbab18-cd81-45ce-98de-7ec3b7e5c4df",
   "metadata": {},
   "outputs": [
    {
     "data": {
      "text/plain": [
       "WindowsPath('src/docClassify/config/config.yaml')"
      ]
     },
     "execution_count": 6,
     "metadata": {},
     "output_type": "execute_result"
    }
   ],
   "source": [
    "CONFIG_FILE_PATH"
   ]
  },
  {
   "cell_type": "code",
   "execution_count": 7,
   "id": "84ac3d2d-0b6b-4f63-aa4a-2d40eb32bd55",
   "metadata": {},
   "outputs": [],
   "source": [
    "class ConfigurationManager:\n",
    "    def __init__(\n",
    "        self,\n",
    "        config_filepath = CONFIG_FILE_PATH,\n",
    "        params_filepath = PARAMS_FILE_PATH):\n",
    "\n",
    "        self.config = read_yaml(config_filepath)\n",
    "        self.params = read_yaml(params_filepath)\n",
    "\n",
    "        create_directories([self.config.artifacts_root])\n",
    "\n",
    "    \n",
    "\n",
    "    def get_data_ingestion_config(self) -> DataIngestionConfig:\n",
    "        config = self.config.data_ingestion\n",
    "\n",
    "        create_directories([config.root_dir])\n",
    "\n",
    "        data_ingestion_config = DataIngestionConfig(\n",
    "            root_dir=config.root_dir,\n",
    "            source_URL=config.source_URL,\n",
    "            local_data_file=config.local_data_file,\n",
    "            unzip_dir=config.unzip_dir \n",
    "        )\n",
    "\n",
    "        return data_ingestion_config"
   ]
  },
  {
   "cell_type": "code",
   "execution_count": 8,
   "id": "0b1367b3-9a3a-46ed-b2c6-00df704c9dde",
   "metadata": {},
   "outputs": [],
   "source": [
    "import os\n",
    "import urllib.request as request\n",
    "import zipfile\n",
    "from docClassify.logger import logger\n",
    "from docClassify.utils.common import get_size"
   ]
  },
  {
   "cell_type": "code",
   "execution_count": null,
   "id": "a92c315d-e8cd-459a-ab4f-3b207e905508",
   "metadata": {},
   "outputs": [],
   "source": [
    "import requests\n",
    "\n",
    "class DataIngestion:\n",
    "    def __init__(self, config: DataIngestionConfig):\n",
    "        self.config = config\n",
    "\n",
    "    def download_file(self):\n",
    "        if os.path.exists(self.config.local_data_file):\n",
    "            os.remove(self.config.local_data_file)\n",
    "        try:\n",
    "            subprocess.run(['curl','-L','-o', local_path, url], check=True)\n",
    "            print(f\"File downloaded and saved as: {local_path}\")\n",
    "            logger.info(f\"{filename} download! with following info: \\n{headers}\")\n",
    "        except subprocess.CalledProcessError as e:\n",
    "            print(f\"Failed to download file. Error: {e}\")\n",
    "    \n",
    "    def extract_zip_file(self):\n",
    "        \"\"\"\n",
    "        zip_file_path: str\n",
    "        Extracts the zip file into the data directory\n",
    "        Function returns None\n",
    "        \"\"\"\n",
    "        unzip_path = self.config.unzip_dir\n",
    "        os.makedirs(unzip_path, exist_ok=True)\n",
    "        with zipfile.ZipFile(self.config.local_data_file, 'r') as zip_ref:\n",
    "            zip_ref.extractall(unzip_path)"
   ]
  },
  {
   "cell_type": "code",
   "execution_count": null,
   "id": "f3ff7925-ee21-460b-8af3-cf83dd5de8df",
   "metadata": {},
   "outputs": [],
   "source": [
    "try:\n",
    "    config = ConfigurationManager()\n",
    "    data_ingestion_config = config.get_data_ingestion_config()\n",
    "    data_ingestion = DataIngestion(config=data_ingestion_config)\n",
    "    data_ingestion.download_file()\n",
    "    data_ingestion.extract_zip_file()\n",
    "except Exception as e:\n",
    "    raise e"
   ]
  },
  {
   "cell_type": "code",
   "execution_count": null,
   "id": "1a856714-9543-4ead-ad12-35c7b1ede4b0",
   "metadata": {},
   "outputs": [],
   "source": []
  },
  {
   "cell_type": "code",
   "execution_count": null,
   "id": "3ace4934-eaa5-4dec-8242-cb6edf53c650",
   "metadata": {},
   "outputs": [],
   "source": []
  },
  {
   "cell_type": "code",
   "execution_count": 18,
   "id": "c2654e7d-c0b4-44c3-b8dd-db8e59dcb54f",
   "metadata": {},
   "outputs": [
    {
     "name": "stderr",
     "output_type": "stream",
     "text": [
      "'wget' is not recognized as an internal or external command,\n",
      "operable program or batch file.\n"
     ]
    }
   ],
   "source": [
    "data_ingestion.config.source_URL"
   ]
  },
  {
   "cell_type": "code",
   "execution_count": 14,
   "id": "f5982d88-d8b8-4c70-8677-e11640976c27",
   "metadata": {},
   "outputs": [
    {
     "data": {
      "text/plain": [
       "('artifacts/data_ingestion/data.zip',\n",
       " <http.client.HTTPMessage at 0x217299da750>)"
      ]
     },
     "execution_count": 14,
     "metadata": {},
     "output_type": "execute_result"
    }
   ],
   "source": [
    "request.urlretrieve(\n",
    "    url=data_ingestion.config.source_URL,\n",
    "    filename=data_ingestion.config.local_data_file\n",
    ")\n"
   ]
  },
  {
   "cell_type": "code",
   "execution_count": null,
   "id": "7329a2bc-68aa-45a5-88cf-1a11527ae04b",
   "metadata": {},
   "outputs": [],
   "source": [
    "https://www.dropbox.com/scl/fi/gkx3j9gk3eg45c2mjyf1s/data_doc_classify.zip?rlkey=mw2iuc5ha4bzy5u3hx0unr603&dl=0"
   ]
  },
  {
   "cell_type": "code",
   "execution_count": 46,
   "id": "f488d5a7-7459-4d2c-a666-bc5d82b9c5f3",
   "metadata": {},
   "outputs": [
    {
     "data": {
      "text/plain": [
       "'data_doc_classify.zip?rlkey=mw2iuc5ha4bzy5u3hx0unr603&dl=0'"
      ]
     },
     "execution_count": 46,
     "metadata": {},
     "output_type": "execute_result"
    }
   ],
   "source": [
    "os.path.split(data_ingestion.config.source_URL)[1]"
   ]
  },
  {
   "cell_type": "code",
   "execution_count": 39,
   "id": "500bee15-868f-4540-b0d1-9f7e4c14d774",
   "metadata": {},
   "outputs": [],
   "source": [
    "#requests.get(dataingestion.config.source_URL)\n",
    "user_agent = {'User-agent': 'Mozilla/5.0'}\n",
    "\n",
    "response = requests.get(data_ingestion.config.source_URL, stream=True)\n",
    "if response.status_code == 200:\n",
    "    with open(data_ingestion.config.local_data_file, 'wb') as file:\n",
    "        file.write(response.content)\n"
   ]
  },
  {
   "cell_type": "code",
   "execution_count": 50,
   "id": "0bacb8fe-b0c1-483c-acf5-db770d08b460",
   "metadata": {},
   "outputs": [
    {
     "data": {
      "text/plain": [
       "('artifacts/data_ingestion/data.zip',\n",
       " <http.client.HTTPMessage at 0x2172a2f9bd0>)"
      ]
     },
     "execution_count": 50,
     "metadata": {},
     "output_type": "execute_result"
    }
   ],
   "source": [
    "import urllib.request \n",
    "urllib.request.urlretrieve(data_ingestion.config.source_URL, data_ingestion.config.local_data_file)"
   ]
  },
  {
   "cell_type": "code",
   "execution_count": 51,
   "id": "907195a4-e9e8-4ca1-99bb-fa894384f41d",
   "metadata": {},
   "outputs": [
    {
     "name": "stdout",
     "output_type": "stream",
     "text": [
      "File downloaded and saved as: artifacts/data_ingestion/data.zip\n"
     ]
    }
   ],
   "source": [
    "import subprocess\n",
    "\n",
    "def download_with_curl(url, local_path):\n",
    "    try:\n",
    "        subprocess.run(['curl','-L','-o', local_path, url], check=True)\n",
    "        print(f\"File downloaded and saved as: {local_path}\")\n",
    "    except subprocess.CalledProcessError as e:\n",
    "        print(f\"Failed to download file. Error: {e}\")\n",
    "\n",
    "# Example usage\n",
    "url =data_ingestion.config.source_URL\n",
    "local_path = data_ingestion.config.local_data_file\n",
    "download_with_curl(url, local_path)\n"
   ]
  },
  {
   "cell_type": "code",
   "execution_count": 52,
   "id": "4de462df-8f8f-4af3-93d3-d7eddc7161c8",
   "metadata": {},
   "outputs": [],
   "source": [
    "import requests\n",
    "\n",
    "class DataIngestion:\n",
    "    def __init__(self, config: DataIngestionConfig):\n",
    "        self.config = config\n",
    "\n",
    "\n",
    "    \n",
    "    def download_file(self):\n",
    "        if os.path.exists(self.config.local_data_file):\n",
    "            os.remove(self.config.local_data_file)\n",
    "        try:\n",
    "            subprocess.run(['curl','-L','-o', local_path, url], check=True)\n",
    "            print(f\"File downloaded and saved as: {local_path}\")\n",
    "            logger.info(f\"{filename} download! with following info: \\n{headers}\")\n",
    "        except subprocess.CalledProcessError as e:\n",
    "            print(f\"Failed to download file. Error: {e}\")\n",
    "        #else:\n",
    "        #    logger.info(f\"File already exists of size: {get_size(Path(self.config.local_data_file))}\")      \n",
    "    #\n",
    "        #if not os.path.exists(self.config.local_data_file):\n",
    "            #user_agent = {'User-agent': 'Mozilla/5.0'}\n",
    "            #response = requests.get(self.config.source_URL,headers=user_agent)\n",
    "            #if response.status_code == 200:\n",
    "            #    with open(self.config.local_data_file, 'wb') as file:\n",
    "            #        file.write(self.config.local_data_file)\n",
    "            \n",
    "            #filename, headers = request.urlretrieve(\n",
    "            #    url = self.config.source_URL,\n",
    "            #    filename = os.path.split(data_ingestion.config.source_URL)[1]\n",
    "            #)\n",
    "            \n",
    "        \n",
    "\n",
    "        \n",
    "    \n",
    "    def extract_zip_file(self):\n",
    "        \"\"\"\n",
    "        zip_file_path: str\n",
    "        Extracts the zip file into the data directory\n",
    "        Function returns None\n",
    "        \"\"\"\n",
    "        unzip_path = self.config.unzip_dir\n",
    "        os.makedirs(unzip_path, exist_ok=True)\n",
    "        with zipfile.ZipFile(self.config.local_data_file, 'r') as zip_ref:\n",
    "            zip_ref.extractall(unzip_path)"
   ]
  },
  {
   "cell_type": "code",
   "execution_count": null,
   "id": "8bac2e34-455d-4e74-be1b-ea5ccc293f4b",
   "metadata": {},
   "outputs": [],
   "source": []
  },
  {
   "cell_type": "code",
   "execution_count": 53,
   "id": "5d2d4bce-5ccb-4b23-9a71-880c04b838d5",
   "metadata": {},
   "outputs": [
    {
     "name": "stdout",
     "output_type": "stream",
     "text": [
      "[2024-02-05 02:08:12,324: INFO: common: yaml file: src\\docClassify\\config\\config.yaml loaded successfully]\n",
      "[2024-02-05 02:08:12,329: INFO: common: yaml file: params.yaml loaded successfully]\n",
      "[2024-02-05 02:08:12,334: INFO: common: created directory at: artifacts]\n",
      "[2024-02-05 02:08:12,337: INFO: common: created directory at: artifacts/data_ingestion]\n",
      "File downloaded and saved as: artifacts/data_ingestion/data.zip\n",
      "[2024-02-05 02:08:16,955: INFO: 2775144944: artifacts/data_ingestion/data.zip download! with following info: \n",
      "Content-Security-Policy: font-src https://* data: ; report-uri https://www.dropbox.com/csp_log?policy_name=metaserver-whitelist ; form-action https://docs.google.com/document/fsip/ https://docs.google.com/spreadsheets/fsip/ https://docs.google.com/presentation/fsip/ https://docs.sandbox.google.com/document/fsip/ https://docs.sandbox.google.com/spreadsheets/fsip/ https://docs.sandbox.google.com/presentation/fsip/ https://*.purple.officeapps.live-int.com https://officeapps-df.live.com https://*.officeapps-df.live.com https://officeapps.live.com https://*.officeapps.live.com https://paper.dropbox.com/cloud-docs/edit 'self' https://www.dropbox.com/ https://dl-web.dropbox.com/ https://photos.dropbox.com/ https://paper.dropbox.com/ https://showcase.dropbox.com/ https://www.hellofax.com/ https://app.hellofax.com/ https://www.hellosign.com/ https://app.hellosign.com/ https://docsend.com/ https://www.docsend.com/ https://help.dropbox.com/ https://navi.dropbox.jp/ https://a.sprig.com/ https://selfguidedlearning.dropboxbusiness.com/ https://instructorledlearning.dropboxbusiness.com/ https://sales.dropboxbusiness.com/ https://accounts.google.com/ https://api.login.yahoo.com/ https://login.yahoo.com/ https://experience.dropbox.com/ https://pal-test.adyen.com https://2e83413d8036243b-Dropbox-pal-live.adyenpayments.com/ https://onedrive.live.com/picker ; default-src https://www.dropbox.com/playlist/ https://www.dropbox.com/v/s/playlist/ https://*.dropboxusercontent.com/p/hls_master_playlist/ https://*.dropboxusercontent.com/p/hls_playlist/ ; frame-ancestors 'self' ; script-src 'unsafe-eval' https://www.dropbox.com/static/api/ https://www.dropbox.com/page_success/ https://cfl.dropboxstatic.com/static/ https://www.dropboxstatic.com/static/ https://accounts.google.com/gsi/client https://canny.io/sdk.js https://www.google.com/recaptcha/ https://www.gstatic.com/recaptcha/ 'unsafe-inline' ; img-src https://* data: blob: ; object-src 'self' https://cfl.dropboxstatic.com/static/ https://www.dropboxstatic.com/static/ ; media-src https://* blob: ; worker-src https://www.dropbox.com/static/serviceworker/ https://www.dropbox.com/encrypted_folder_download/service_worker.js blob: ; connect-src https://* ws://127.0.0.1:*/ws wss://dsimports.dropbox.com/ ; frame-src https://* carousel: dbapi-6: dbapi-7: dbapi-8: dropbox-client: itms-apps: itms-appss: ; style-src https://* 'unsafe-inline' 'unsafe-eval' ; child-src https://www.dropbox.com/static/serviceworker/ blob: ; base-uri 'self'\n",
      "Content-Type: text/html; charset=utf-8\n",
      "Pragma: no-cache\n",
      "Referrer-Policy: strict-origin-when-cross-origin\n",
      "Set-Cookie: gvc=MTQwMjQ0MjgyMzQyMzEzMDgyODE1NTg5MDYwMDEzMzIyODEwNzMx; Path=/; Expires=Fri, 02 Feb 2029 23:38:56 GMT; HttpOnly; Secure; SameSite=None\n",
      "Set-Cookie: t=ipOlc4_TpnK7tjT0C1dcNQ3r; Path=/; Domain=dropbox.com; Expires=Wed, 03 Feb 2027 23:38:57 GMT; HttpOnly; Secure; SameSite=None\n",
      "Set-Cookie: __Host-js_csrf=ipOlc4_TpnK7tjT0C1dcNQ3r; Path=/; Expires=Wed, 03 Feb 2027 23:38:57 GMT; Secure; SameSite=None\n",
      "Set-Cookie: __Host-ss=NOmti6AEqQ; Path=/; Expires=Wed, 03 Feb 2027 23:38:57 GMT; HttpOnly; Secure; SameSite=Strict\n",
      "Set-Cookie: locale=en; Path=/; Domain=dropbox.com; Expires=Fri, 02 Feb 2029 23:38:57 GMT\n",
      "X-Content-Type-Options: nosniff\n",
      "X-Frame-Options: SAMEORIGIN\n",
      "X-Permitted-Cross-Domain-Policies: none\n",
      "X-Robots-Tag: noindex, nofollow, noimageindex\n",
      "X-Xss-Protection: 1; mode=block\n",
      "Date: Sun, 04 Feb 2024 23:38:57 GMT\n",
      "Strict-Transport-Security: max-age=31536000; includeSubDomains\n",
      "Server: envoy\n",
      "Cache-Control: no-cache, no-store\n",
      "Vary: Accept-Encoding\n",
      "X-Dropbox-Response-Origin: far_remote\n",
      "X-Dropbox-Request-Id: 1413c9ba8d02428dac4f35055bee77a1\n",
      "Connection: close\n",
      "Transfer-Encoding: chunked\n",
      "\n",
      "]\n"
     ]
    }
   ],
   "source": [
    "try:\n",
    "    config = ConfigurationManager()\n",
    "    data_ingestion_config = config.get_data_ingestion_config()\n",
    "    data_ingestion = DataIngestion(config=data_ingestion_config)\n",
    "    data_ingestion.download_file()\n",
    "    data_ingestion.extract_zip_file()\n",
    "except Exception as e:\n",
    "    raise e"
   ]
  },
  {
   "cell_type": "code",
   "execution_count": null,
   "id": "fd6680fa-f4f6-4b32-b7dd-825b39a4e19b",
   "metadata": {},
   "outputs": [],
   "source": []
  }
 ],
 "metadata": {
  "kernelspec": {
   "display_name": "Python 3 (ipykernel)",
   "language": "python",
   "name": "python3"
  },
  "language_info": {
   "codemirror_mode": {
    "name": "ipython",
    "version": 3
   },
   "file_extension": ".py",
   "mimetype": "text/x-python",
   "name": "python",
   "nbconvert_exporter": "python",
   "pygments_lexer": "ipython3",
   "version": "3.11.0"
  }
 },
 "nbformat": 4,
 "nbformat_minor": 5
}
