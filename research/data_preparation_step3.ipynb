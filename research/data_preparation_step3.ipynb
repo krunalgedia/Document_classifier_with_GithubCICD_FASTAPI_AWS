{
 "cells": [
  {
   "cell_type": "code",
   "execution_count": 1,
   "id": "8c099e02-0a0a-4ec3-94f4-5813503711da",
   "metadata": {},
   "outputs": [
    {
     "data": {
      "text/plain": [
       "'C:\\\\Users\\\\kbged\\\\Downloads\\\\mlprojects\\\\Document_classifier_with_GithubCICD_FASTAPI_AWS\\\\research'"
      ]
     },
     "execution_count": 1,
     "metadata": {},
     "output_type": "execute_result"
    }
   ],
   "source": [
    "import os\n",
    "%pwd"
   ]
  },
  {
   "cell_type": "code",
   "execution_count": 2,
   "id": "71244ad8-5ad9-4f6f-a0e7-5aaa4af7f306",
   "metadata": {},
   "outputs": [
    {
     "data": {
      "text/plain": [
       "'C:\\\\Users\\\\kbged\\\\Downloads\\\\mlprojects\\\\Document_classifier_with_GithubCICD_FASTAPI_AWS'"
      ]
     },
     "execution_count": 2,
     "metadata": {},
     "output_type": "execute_result"
    }
   ],
   "source": [
    "os.chdir(\"../\")\n",
    "%pwd"
   ]
  },
  {
   "cell_type": "code",
   "execution_count": 3,
   "id": "4fb4e6c8-4e3c-493c-8658-4683f8422654",
   "metadata": {},
   "outputs": [],
   "source": [
    "from dataclasses import dataclass\n",
    "from pathlib import Path\n",
    "\n",
    "\n",
    "@dataclass(frozen=True)\n",
    "class DataPreparationConfig:\n",
    "    root_dir: Path\n",
    "    STATUS_FILE: str\n",
    "    unzip_dir: str"
   ]
  },
  {
   "cell_type": "code",
   "execution_count": 4,
   "id": "7bca92a2-66b4-4093-a45f-dace56fe9907",
   "metadata": {},
   "outputs": [],
   "source": [
    "from docClassify.constants import *\n",
    "from docClassify.utils.common import read_yaml, create_directories, create_bounding_box"
   ]
  },
  {
   "cell_type": "code",
   "execution_count": 5,
   "id": "bb308ea0-d99c-4dd0-b4c8-e61eadd8bbc2",
   "metadata": {},
   "outputs": [],
   "source": [
    "class ConfigurationManager:\n",
    "    def __init__(\n",
    "        self,\n",
    "        config_filepath = CONFIG_FILE_PATH,\n",
    "        params_filepath = PARAMS_FILE_PATH):\n",
    "\n",
    "        self.config = read_yaml(config_filepath)\n",
    "        self.params = read_yaml(params_filepath)\n",
    "\n",
    "        create_directories([self.config.artifacts_root])\n",
    "\n",
    "    def get_data_preparation_config(self) -> DataPreparationConfig:\n",
    "        config = self.config.data_preparation\n",
    "\n",
    "        create_directories([config.root_dir])\n",
    "\n",
    "        data_preparation_config = DataPreparationConfig(\n",
    "            root_dir=config.root_dir,\n",
    "            STATUS_FILE=config.STATUS_FILE,\n",
    "            unzip_dir=config.unzip_dir\n",
    "        )\n",
    "\n",
    "        return data_preparation_config"
   ]
  },
  {
   "cell_type": "code",
   "execution_count": 6,
   "id": "bb127511-fe00-4c38-8b05-190b182d9d5e",
   "metadata": {},
   "outputs": [],
   "source": [
    "import os\n",
    "from docClassify.logger import logger"
   ]
  },
  {
   "cell_type": "code",
   "execution_count": 9,
   "id": "eed1c1b7-f7f1-44fd-8b5f-2f940e1af635",
   "metadata": {},
   "outputs": [],
   "source": [
    "import easyocr\n",
    "from tqdm.notebook import tqdm\n",
    "import json\n",
    "\n",
    "class DataPreparation():\n",
    "    def __init__(self, config:DataPreparationConfig):\n",
    "        self.config = config\n",
    "        #print(Path(self.config.root_dir).glob(\"*/*.png\"))\n",
    "        self.image_paths = sorted(list(Path(self.config.unzip_dir).glob(\"*/*.png\")))\n",
    "        #print(Path(self.config.root_dir).glob(\"*/*.png\"))\n",
    "\n",
    "    def prepare_all_files(self) -> bool :\n",
    "        preparation_status = False\n",
    "        try:\n",
    "            reader = easyocr.Reader(['en'])\n",
    "            for image_path in tqdm(self.image_paths):\n",
    "                print(image_path)\n",
    "                ocr_result = reader.readtext(str(image_path))\n",
    "            \n",
    "                ocr_page = []\n",
    "                for bbox, word, confidence in ocr_result:\n",
    "                    ocr_page.append({\n",
    "                        \"word\": word, \"bounding_box\": create_bounding_box(bbox)\n",
    "                    })\n",
    "                \n",
    "                with image_path.with_suffix(\".json\").open(\"w\") as f:\n",
    "                    json.dump(ocr_page, f)\n",
    "                    \n",
    "            preparation_status = True\n",
    "            return preparation_status\n",
    "            \n",
    "        except Exception as e:\n",
    "            raise e"
   ]
  },
  {
   "cell_type": "code",
   "execution_count": 10,
   "id": "6f183ef2-59a9-4c11-b942-7ba6fbd01d7e",
   "metadata": {},
   "outputs": [
    {
     "name": "stdout",
     "output_type": "stream",
     "text": [
      "[2024-02-05 23:38:04,912: INFO: common: yaml file: src\\docClassify\\config\\config.yaml loaded successfully]\n",
      "[2024-02-05 23:38:04,918: INFO: common: yaml file: params.yaml loaded successfully]\n",
      "[2024-02-05 23:38:04,923: INFO: common: created directory at: artifacts]\n",
      "[2024-02-05 23:38:04,927: INFO: common: created directory at: artifacts/data_preparation]\n",
      "[2024-02-05 23:38:04,932: WARNING: easyocr: Neither CUDA nor MPS are available - defaulting to CPU. Note: This module is much faster with a GPU.]\n"
     ]
    },
    {
     "data": {
      "application/vnd.jupyter.widget-view+json": {
       "model_id": "28b5532fdfff4e1b9723d06e4feb26a6",
       "version_major": 2,
       "version_minor": 0
      },
      "text/plain": [
       "  0%|          | 0/50 [00:00<?, ?it/s]"
      ]
     },
     "metadata": {},
     "output_type": "display_data"
    },
    {
     "name": "stdout",
     "output_type": "stream",
     "text": [
      "artifacts\\data_ingestion\\data\\balance sheet\\bs1.png\n",
      "artifacts\\data_ingestion\\data\\balance sheet\\bs10.png\n",
      "artifacts\\data_ingestion\\data\\balance sheet\\bs11.png\n",
      "artifacts\\data_ingestion\\data\\balance sheet\\bs12.png\n",
      "artifacts\\data_ingestion\\data\\balance sheet\\bs13.png\n",
      "artifacts\\data_ingestion\\data\\balance sheet\\bs14.png\n",
      "artifacts\\data_ingestion\\data\\balance sheet\\bs15.png\n",
      "artifacts\\data_ingestion\\data\\balance sheet\\bs16.png\n",
      "artifacts\\data_ingestion\\data\\balance sheet\\bs17.png\n",
      "artifacts\\data_ingestion\\data\\balance sheet\\bs2.png\n",
      "artifacts\\data_ingestion\\data\\balance sheet\\bs3.png\n",
      "artifacts\\data_ingestion\\data\\balance sheet\\bs4.png\n",
      "artifacts\\data_ingestion\\data\\balance sheet\\bs5.png\n",
      "artifacts\\data_ingestion\\data\\balance sheet\\bs6.png\n",
      "artifacts\\data_ingestion\\data\\balance sheet\\bs7.png\n",
      "artifacts\\data_ingestion\\data\\balance sheet\\bs8.png\n",
      "artifacts\\data_ingestion\\data\\balance sheet\\bs9.png\n",
      "artifacts\\data_ingestion\\data\\cashflow\\cf1.png\n",
      "artifacts\\data_ingestion\\data\\cashflow\\cf10.png\n",
      "artifacts\\data_ingestion\\data\\cashflow\\cf11.png\n",
      "artifacts\\data_ingestion\\data\\cashflow\\cf12.png\n",
      "artifacts\\data_ingestion\\data\\cashflow\\cf13.png\n",
      "artifacts\\data_ingestion\\data\\cashflow\\cf14.png\n",
      "artifacts\\data_ingestion\\data\\cashflow\\cf15.png\n",
      "artifacts\\data_ingestion\\data\\cashflow\\cf16.png\n",
      "artifacts\\data_ingestion\\data\\cashflow\\cf2.png\n",
      "artifacts\\data_ingestion\\data\\cashflow\\cf3.png\n",
      "artifacts\\data_ingestion\\data\\cashflow\\cf4.png\n",
      "artifacts\\data_ingestion\\data\\cashflow\\cf5.png\n",
      "artifacts\\data_ingestion\\data\\cashflow\\cf6.png\n",
      "artifacts\\data_ingestion\\data\\cashflow\\cf7.png\n",
      "artifacts\\data_ingestion\\data\\cashflow\\cf8.png\n",
      "artifacts\\data_ingestion\\data\\cashflow\\cf9.png\n",
      "artifacts\\data_ingestion\\data\\income statement\\is1.png\n",
      "artifacts\\data_ingestion\\data\\income statement\\is10.png\n",
      "artifacts\\data_ingestion\\data\\income statement\\is11.png\n",
      "artifacts\\data_ingestion\\data\\income statement\\is12.png\n",
      "artifacts\\data_ingestion\\data\\income statement\\is13.png\n",
      "artifacts\\data_ingestion\\data\\income statement\\is14.png\n",
      "artifacts\\data_ingestion\\data\\income statement\\is15.png\n",
      "artifacts\\data_ingestion\\data\\income statement\\is16.png\n",
      "artifacts\\data_ingestion\\data\\income statement\\is17.png\n",
      "artifacts\\data_ingestion\\data\\income statement\\is2.png\n",
      "artifacts\\data_ingestion\\data\\income statement\\is3.png\n",
      "artifacts\\data_ingestion\\data\\income statement\\is4.png\n",
      "artifacts\\data_ingestion\\data\\income statement\\is5.png\n",
      "artifacts\\data_ingestion\\data\\income statement\\is6.png\n",
      "artifacts\\data_ingestion\\data\\income statement\\is7.png\n",
      "artifacts\\data_ingestion\\data\\income statement\\is8.png\n",
      "artifacts\\data_ingestion\\data\\income statement\\is9.png\n"
     ]
    }
   ],
   "source": [
    "try:\n",
    "    config = ConfigurationManager()\n",
    "    data_preparation_config = config.get_data_preparation_config()\n",
    "    data_preparation = DataPreparation(config=data_preparation_config)\n",
    "    data_preparation.prepare_all_files()\n",
    "except Exception as e:\n",
    "    raise e"
   ]
  },
  {
   "cell_type": "code",
   "execution_count": null,
   "id": "ec845b96-e4a6-405d-8729-5a74076bd0f8",
   "metadata": {},
   "outputs": [],
   "source": []
  },
  {
   "cell_type": "code",
   "execution_count": null,
   "id": "453b28e3-3196-43ee-be67-7d122f7d5a4b",
   "metadata": {},
   "outputs": [],
   "source": []
  },
  {
   "cell_type": "code",
   "execution_count": null,
   "id": "57c143f9-ee07-4c1a-9d70-c8d92c0c72d0",
   "metadata": {},
   "outputs": [],
   "source": []
  },
  {
   "cell_type": "code",
   "execution_count": null,
   "id": "7a1e6ba3-1c6a-40d9-a6fb-a74b52a5eba6",
   "metadata": {},
   "outputs": [],
   "source": []
  },
  {
   "cell_type": "code",
   "execution_count": null,
   "id": "28c551ae-b200-433a-a600-6ebae263d453",
   "metadata": {},
   "outputs": [],
   "source": []
  },
  {
   "cell_type": "code",
   "execution_count": null,
   "id": "60908dc8-247f-41f5-ae47-df2495e35788",
   "metadata": {},
   "outputs": [],
   "source": []
  },
  {
   "cell_type": "code",
   "execution_count": null,
   "id": "b7368cae-a0f1-40e4-aacf-0c2c5b282def",
   "metadata": {},
   "outputs": [],
   "source": []
  },
  {
   "cell_type": "code",
   "execution_count": null,
   "id": "1dcd8560-5026-45d1-b369-bf2410a7dc6b",
   "metadata": {},
   "outputs": [],
   "source": []
  },
  {
   "cell_type": "code",
   "execution_count": null,
   "id": "aa799a98-c2c8-4842-934f-cc4111de99bd",
   "metadata": {},
   "outputs": [],
   "source": []
  }
 ],
 "metadata": {
  "kernelspec": {
   "display_name": "Python 3 (ipykernel)",
   "language": "python",
   "name": "python3"
  },
  "language_info": {
   "codemirror_mode": {
    "name": "ipython",
    "version": 3
   },
   "file_extension": ".py",
   "mimetype": "text/x-python",
   "name": "python",
   "nbconvert_exporter": "python",
   "pygments_lexer": "ipython3",
   "version": "3.11.0"
  }
 },
 "nbformat": 4,
 "nbformat_minor": 5
}
